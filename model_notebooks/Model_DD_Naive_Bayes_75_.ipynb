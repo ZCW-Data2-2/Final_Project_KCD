{
  "nbformat": 4,
  "nbformat_minor": 0,
  "metadata": {
    "colab": {
      "name": "Model_DD_Naive Bayes_75%.ipynb",
      "provenance": []
    },
    "kernelspec": {
      "name": "python3",
      "display_name": "Python 3"
    },
    "language_info": {
      "name": "python"
    }
  },
  "cells": [
    {
      "cell_type": "markdown",
      "source": [
        "# Building ML Model Naive Bayes\n",
        "## get the data loaded"
      ],
      "metadata": {
        "id": "Snm7CJTKT-Un"
      }
    },
    {
      "cell_type": "code",
      "execution_count": 4,
      "metadata": {
        "id": "r0_kUWSfT2rU"
      },
      "outputs": [],
      "source": [
        "import nltk"
      ]
    },
    {
      "cell_type": "code",
      "source": [
        "import pandas as pd"
      ],
      "metadata": {
        "id": "QpfA3g2UV5gD"
      },
      "execution_count": 5,
      "outputs": []
    },
    {
      "cell_type": "code",
      "source": [
        "positive_tweets = pd.read_feather('/content/drive/MyDrive/Colab Notebooks/Datasets/Sentiment 140/data/sentiment 140 positive.feather')"
      ],
      "metadata": {
        "id": "_bANhsQwVyv_"
      },
      "execution_count": 6,
      "outputs": []
    },
    {
      "cell_type": "code",
      "source": [
        "negative_tweets = pd.read_feather('/content/drive/MyDrive/Colab Notebooks/Datasets/Sentiment 140/data/sentiment 140 negative.feather')"
      ],
      "metadata": {
        "id": "6aB6tvgrWJ31"
      },
      "execution_count": 7,
      "outputs": []
    },
    {
      "cell_type": "markdown",
      "source": [
        "## 10% to produce the output in notebook, similar percentage for whole set"
      ],
      "metadata": {
        "id": "C4mbj8gUOBLS"
      }
    },
    {
      "cell_type": "code",
      "source": [
        "positive_tweets = positive_tweets.sample(frac=.1)\n",
        "negative_tweets = negative_tweets.sample(frac=.1)"
      ],
      "metadata": {
        "id": "Fso-dcYcbVxL"
      },
      "execution_count": 8,
      "outputs": []
    },
    {
      "cell_type": "code",
      "source": [
        "positive_tweets.describe()"
      ],
      "metadata": {
        "id": "veeVOEDeWPwf",
        "colab": {
          "base_uri": "https://localhost:8080/",
          "height": 300
        },
        "outputId": "5fbcb7dd-755e-481f-c9db-50f7a99ddcce"
      },
      "execution_count": 9,
      "outputs": [
        {
          "output_type": "execute_result",
          "data": {
            "text/html": [
              "\n",
              "  <div id=\"df-9cc4aa85-30df-46ba-942d-79f1918cb26a\">\n",
              "    <div class=\"colab-df-container\">\n",
              "      <div>\n",
              "<style scoped>\n",
              "    .dataframe tbody tr th:only-of-type {\n",
              "        vertical-align: middle;\n",
              "    }\n",
              "\n",
              "    .dataframe tbody tr th {\n",
              "        vertical-align: top;\n",
              "    }\n",
              "\n",
              "    .dataframe thead th {\n",
              "        text-align: right;\n",
              "    }\n",
              "</style>\n",
              "<table border=\"1\" class=\"dataframe\">\n",
              "  <thead>\n",
              "    <tr style=\"text-align: right;\">\n",
              "      <th></th>\n",
              "      <th>sentiment</th>\n",
              "    </tr>\n",
              "  </thead>\n",
              "  <tbody>\n",
              "    <tr>\n",
              "      <th>count</th>\n",
              "      <td>80000.0</td>\n",
              "    </tr>\n",
              "    <tr>\n",
              "      <th>mean</th>\n",
              "      <td>1.0</td>\n",
              "    </tr>\n",
              "    <tr>\n",
              "      <th>std</th>\n",
              "      <td>0.0</td>\n",
              "    </tr>\n",
              "    <tr>\n",
              "      <th>min</th>\n",
              "      <td>1.0</td>\n",
              "    </tr>\n",
              "    <tr>\n",
              "      <th>25%</th>\n",
              "      <td>1.0</td>\n",
              "    </tr>\n",
              "    <tr>\n",
              "      <th>50%</th>\n",
              "      <td>1.0</td>\n",
              "    </tr>\n",
              "    <tr>\n",
              "      <th>75%</th>\n",
              "      <td>1.0</td>\n",
              "    </tr>\n",
              "    <tr>\n",
              "      <th>max</th>\n",
              "      <td>1.0</td>\n",
              "    </tr>\n",
              "  </tbody>\n",
              "</table>\n",
              "</div>\n",
              "      <button class=\"colab-df-convert\" onclick=\"convertToInteractive('df-9cc4aa85-30df-46ba-942d-79f1918cb26a')\"\n",
              "              title=\"Convert this dataframe to an interactive table.\"\n",
              "              style=\"display:none;\">\n",
              "        \n",
              "  <svg xmlns=\"http://www.w3.org/2000/svg\" height=\"24px\"viewBox=\"0 0 24 24\"\n",
              "       width=\"24px\">\n",
              "    <path d=\"M0 0h24v24H0V0z\" fill=\"none\"/>\n",
              "    <path d=\"M18.56 5.44l.94 2.06.94-2.06 2.06-.94-2.06-.94-.94-2.06-.94 2.06-2.06.94zm-11 1L8.5 8.5l.94-2.06 2.06-.94-2.06-.94L8.5 2.5l-.94 2.06-2.06.94zm10 10l.94 2.06.94-2.06 2.06-.94-2.06-.94-.94-2.06-.94 2.06-2.06.94z\"/><path d=\"M17.41 7.96l-1.37-1.37c-.4-.4-.92-.59-1.43-.59-.52 0-1.04.2-1.43.59L10.3 9.45l-7.72 7.72c-.78.78-.78 2.05 0 2.83L4 21.41c.39.39.9.59 1.41.59.51 0 1.02-.2 1.41-.59l7.78-7.78 2.81-2.81c.8-.78.8-2.07 0-2.86zM5.41 20L4 18.59l7.72-7.72 1.47 1.35L5.41 20z\"/>\n",
              "  </svg>\n",
              "      </button>\n",
              "      \n",
              "  <style>\n",
              "    .colab-df-container {\n",
              "      display:flex;\n",
              "      flex-wrap:wrap;\n",
              "      gap: 12px;\n",
              "    }\n",
              "\n",
              "    .colab-df-convert {\n",
              "      background-color: #E8F0FE;\n",
              "      border: none;\n",
              "      border-radius: 50%;\n",
              "      cursor: pointer;\n",
              "      display: none;\n",
              "      fill: #1967D2;\n",
              "      height: 32px;\n",
              "      padding: 0 0 0 0;\n",
              "      width: 32px;\n",
              "    }\n",
              "\n",
              "    .colab-df-convert:hover {\n",
              "      background-color: #E2EBFA;\n",
              "      box-shadow: 0px 1px 2px rgba(60, 64, 67, 0.3), 0px 1px 3px 1px rgba(60, 64, 67, 0.15);\n",
              "      fill: #174EA6;\n",
              "    }\n",
              "\n",
              "    [theme=dark] .colab-df-convert {\n",
              "      background-color: #3B4455;\n",
              "      fill: #D2E3FC;\n",
              "    }\n",
              "\n",
              "    [theme=dark] .colab-df-convert:hover {\n",
              "      background-color: #434B5C;\n",
              "      box-shadow: 0px 1px 3px 1px rgba(0, 0, 0, 0.15);\n",
              "      filter: drop-shadow(0px 1px 2px rgba(0, 0, 0, 0.3));\n",
              "      fill: #FFFFFF;\n",
              "    }\n",
              "  </style>\n",
              "\n",
              "      <script>\n",
              "        const buttonEl =\n",
              "          document.querySelector('#df-9cc4aa85-30df-46ba-942d-79f1918cb26a button.colab-df-convert');\n",
              "        buttonEl.style.display =\n",
              "          google.colab.kernel.accessAllowed ? 'block' : 'none';\n",
              "\n",
              "        async function convertToInteractive(key) {\n",
              "          const element = document.querySelector('#df-9cc4aa85-30df-46ba-942d-79f1918cb26a');\n",
              "          const dataTable =\n",
              "            await google.colab.kernel.invokeFunction('convertToInteractive',\n",
              "                                                     [key], {});\n",
              "          if (!dataTable) return;\n",
              "\n",
              "          const docLinkHtml = 'Like what you see? Visit the ' +\n",
              "            '<a target=\"_blank\" href=https://colab.research.google.com/notebooks/data_table.ipynb>data table notebook</a>'\n",
              "            + ' to learn more about interactive tables.';\n",
              "          element.innerHTML = '';\n",
              "          dataTable['output_type'] = 'display_data';\n",
              "          await google.colab.output.renderOutput(dataTable, element);\n",
              "          const docLink = document.createElement('div');\n",
              "          docLink.innerHTML = docLinkHtml;\n",
              "          element.appendChild(docLink);\n",
              "        }\n",
              "      </script>\n",
              "    </div>\n",
              "  </div>\n",
              "  "
            ],
            "text/plain": [
              "       sentiment\n",
              "count    80000.0\n",
              "mean         1.0\n",
              "std          0.0\n",
              "min          1.0\n",
              "25%          1.0\n",
              "50%          1.0\n",
              "75%          1.0\n",
              "max          1.0"
            ]
          },
          "metadata": {},
          "execution_count": 9
        }
      ]
    },
    {
      "cell_type": "code",
      "source": [
        "negative_tweets.describe()"
      ],
      "metadata": {
        "id": "ZorpYMnQWo67",
        "colab": {
          "base_uri": "https://localhost:8080/",
          "height": 300
        },
        "outputId": "e43e4330-f9ec-4c34-9fb3-21186f319a48"
      },
      "execution_count": 10,
      "outputs": [
        {
          "output_type": "execute_result",
          "data": {
            "text/html": [
              "\n",
              "  <div id=\"df-707af7f2-0a0e-4b70-b0b4-08101e449a58\">\n",
              "    <div class=\"colab-df-container\">\n",
              "      <div>\n",
              "<style scoped>\n",
              "    .dataframe tbody tr th:only-of-type {\n",
              "        vertical-align: middle;\n",
              "    }\n",
              "\n",
              "    .dataframe tbody tr th {\n",
              "        vertical-align: top;\n",
              "    }\n",
              "\n",
              "    .dataframe thead th {\n",
              "        text-align: right;\n",
              "    }\n",
              "</style>\n",
              "<table border=\"1\" class=\"dataframe\">\n",
              "  <thead>\n",
              "    <tr style=\"text-align: right;\">\n",
              "      <th></th>\n",
              "      <th>sentiment</th>\n",
              "    </tr>\n",
              "  </thead>\n",
              "  <tbody>\n",
              "    <tr>\n",
              "      <th>count</th>\n",
              "      <td>80000.0</td>\n",
              "    </tr>\n",
              "    <tr>\n",
              "      <th>mean</th>\n",
              "      <td>0.0</td>\n",
              "    </tr>\n",
              "    <tr>\n",
              "      <th>std</th>\n",
              "      <td>0.0</td>\n",
              "    </tr>\n",
              "    <tr>\n",
              "      <th>min</th>\n",
              "      <td>0.0</td>\n",
              "    </tr>\n",
              "    <tr>\n",
              "      <th>25%</th>\n",
              "      <td>0.0</td>\n",
              "    </tr>\n",
              "    <tr>\n",
              "      <th>50%</th>\n",
              "      <td>0.0</td>\n",
              "    </tr>\n",
              "    <tr>\n",
              "      <th>75%</th>\n",
              "      <td>0.0</td>\n",
              "    </tr>\n",
              "    <tr>\n",
              "      <th>max</th>\n",
              "      <td>0.0</td>\n",
              "    </tr>\n",
              "  </tbody>\n",
              "</table>\n",
              "</div>\n",
              "      <button class=\"colab-df-convert\" onclick=\"convertToInteractive('df-707af7f2-0a0e-4b70-b0b4-08101e449a58')\"\n",
              "              title=\"Convert this dataframe to an interactive table.\"\n",
              "              style=\"display:none;\">\n",
              "        \n",
              "  <svg xmlns=\"http://www.w3.org/2000/svg\" height=\"24px\"viewBox=\"0 0 24 24\"\n",
              "       width=\"24px\">\n",
              "    <path d=\"M0 0h24v24H0V0z\" fill=\"none\"/>\n",
              "    <path d=\"M18.56 5.44l.94 2.06.94-2.06 2.06-.94-2.06-.94-.94-2.06-.94 2.06-2.06.94zm-11 1L8.5 8.5l.94-2.06 2.06-.94-2.06-.94L8.5 2.5l-.94 2.06-2.06.94zm10 10l.94 2.06.94-2.06 2.06-.94-2.06-.94-.94-2.06-.94 2.06-2.06.94z\"/><path d=\"M17.41 7.96l-1.37-1.37c-.4-.4-.92-.59-1.43-.59-.52 0-1.04.2-1.43.59L10.3 9.45l-7.72 7.72c-.78.78-.78 2.05 0 2.83L4 21.41c.39.39.9.59 1.41.59.51 0 1.02-.2 1.41-.59l7.78-7.78 2.81-2.81c.8-.78.8-2.07 0-2.86zM5.41 20L4 18.59l7.72-7.72 1.47 1.35L5.41 20z\"/>\n",
              "  </svg>\n",
              "      </button>\n",
              "      \n",
              "  <style>\n",
              "    .colab-df-container {\n",
              "      display:flex;\n",
              "      flex-wrap:wrap;\n",
              "      gap: 12px;\n",
              "    }\n",
              "\n",
              "    .colab-df-convert {\n",
              "      background-color: #E8F0FE;\n",
              "      border: none;\n",
              "      border-radius: 50%;\n",
              "      cursor: pointer;\n",
              "      display: none;\n",
              "      fill: #1967D2;\n",
              "      height: 32px;\n",
              "      padding: 0 0 0 0;\n",
              "      width: 32px;\n",
              "    }\n",
              "\n",
              "    .colab-df-convert:hover {\n",
              "      background-color: #E2EBFA;\n",
              "      box-shadow: 0px 1px 2px rgba(60, 64, 67, 0.3), 0px 1px 3px 1px rgba(60, 64, 67, 0.15);\n",
              "      fill: #174EA6;\n",
              "    }\n",
              "\n",
              "    [theme=dark] .colab-df-convert {\n",
              "      background-color: #3B4455;\n",
              "      fill: #D2E3FC;\n",
              "    }\n",
              "\n",
              "    [theme=dark] .colab-df-convert:hover {\n",
              "      background-color: #434B5C;\n",
              "      box-shadow: 0px 1px 3px 1px rgba(0, 0, 0, 0.15);\n",
              "      filter: drop-shadow(0px 1px 2px rgba(0, 0, 0, 0.3));\n",
              "      fill: #FFFFFF;\n",
              "    }\n",
              "  </style>\n",
              "\n",
              "      <script>\n",
              "        const buttonEl =\n",
              "          document.querySelector('#df-707af7f2-0a0e-4b70-b0b4-08101e449a58 button.colab-df-convert');\n",
              "        buttonEl.style.display =\n",
              "          google.colab.kernel.accessAllowed ? 'block' : 'none';\n",
              "\n",
              "        async function convertToInteractive(key) {\n",
              "          const element = document.querySelector('#df-707af7f2-0a0e-4b70-b0b4-08101e449a58');\n",
              "          const dataTable =\n",
              "            await google.colab.kernel.invokeFunction('convertToInteractive',\n",
              "                                                     [key], {});\n",
              "          if (!dataTable) return;\n",
              "\n",
              "          const docLinkHtml = 'Like what you see? Visit the ' +\n",
              "            '<a target=\"_blank\" href=https://colab.research.google.com/notebooks/data_table.ipynb>data table notebook</a>'\n",
              "            + ' to learn more about interactive tables.';\n",
              "          element.innerHTML = '';\n",
              "          dataTable['output_type'] = 'display_data';\n",
              "          await google.colab.output.renderOutput(dataTable, element);\n",
              "          const docLink = document.createElement('div');\n",
              "          docLink.innerHTML = docLinkHtml;\n",
              "          element.appendChild(docLink);\n",
              "        }\n",
              "      </script>\n",
              "    </div>\n",
              "  </div>\n",
              "  "
            ],
            "text/plain": [
              "       sentiment\n",
              "count    80000.0\n",
              "mean         0.0\n",
              "std          0.0\n",
              "min          0.0\n",
              "25%          0.0\n",
              "50%          0.0\n",
              "75%          0.0\n",
              "max          0.0"
            ]
          },
          "metadata": {},
          "execution_count": 10
        }
      ]
    },
    {
      "cell_type": "markdown",
      "source": [
        "## Tokenize the data"
      ],
      "metadata": {
        "id": "dYhYj9_DUJXC"
      }
    },
    {
      "cell_type": "code",
      "source": [
        "from nltk.tokenize import TweetTokenizer"
      ],
      "metadata": {
        "id": "72Gn6gO1W5XG"
      },
      "execution_count": 11,
      "outputs": []
    },
    {
      "cell_type": "code",
      "source": [
        "tweet_tokenizer = TweetTokenizer(preserve_case=False, strip_handles=True)"
      ],
      "metadata": {
        "id": "rOwrrwp8W_G0"
      },
      "execution_count": 12,
      "outputs": []
    },
    {
      "cell_type": "code",
      "source": [
        "tokens_positive = [tweet_tokenizer.tokenize(p) for p in positive_tweets['text']]"
      ],
      "metadata": {
        "id": "AI2dSJpHYOBS"
      },
      "execution_count": 13,
      "outputs": []
    },
    {
      "cell_type": "code",
      "source": [
        "tokens_negative = [tweet_tokenizer.tokenize(p) for p in negative_tweets['text']]"
      ],
      "metadata": {
        "id": "GdLb32X0Y4FW"
      },
      "execution_count": 14,
      "outputs": []
    },
    {
      "cell_type": "code",
      "source": [
        "from nltk.tag import pos_tag\n",
        "nltk.download('averaged_perceptron_tagger')"
      ],
      "metadata": {
        "id": "myh1weGpZd7Z",
        "colab": {
          "base_uri": "https://localhost:8080/"
        },
        "outputId": "0382f3c0-b21e-4b71-a568-91a7ae843b0c"
      },
      "execution_count": 15,
      "outputs": [
        {
          "output_type": "stream",
          "name": "stdout",
          "text": [
            "[nltk_data] Downloading package averaged_perceptron_tagger to\n",
            "[nltk_data]     /root/nltk_data...\n",
            "[nltk_data]   Unzipping taggers/averaged_perceptron_tagger.zip.\n"
          ]
        },
        {
          "output_type": "execute_result",
          "data": {
            "text/plain": [
              "True"
            ]
          },
          "metadata": {},
          "execution_count": 15
        }
      ]
    },
    {
      "cell_type": "code",
      "source": [
        "tags_positive = [pos_tag(p) for p in tokens_positive]\n",
        "tags_negative = [pos_tag(n) for n in tokens_negative]"
      ],
      "metadata": {
        "id": "i7eTqjxgZfFj"
      },
      "execution_count": 16,
      "outputs": []
    },
    {
      "cell_type": "code",
      "source": [
        "tags_positive[0]"
      ],
      "metadata": {
        "id": "LsJnEHTVcIaZ",
        "colab": {
          "base_uri": "https://localhost:8080/"
        },
        "outputId": "e78a26bd-05f4-497a-ba76-9513ffe03795"
      },
      "execution_count": 17,
      "outputs": [
        {
          "output_type": "execute_result",
          "data": {
            "text/plain": [
              "[('that', 'DT'),\n",
              " ('must', 'MD'),\n",
              " ('be', 'VB'),\n",
              " ('pretty', 'JJ'),\n",
              " ('cool', 'NN')]"
            ]
          },
          "metadata": {},
          "execution_count": 17
        }
      ]
    },
    {
      "cell_type": "markdown",
      "source": [
        "## Lemmatize the words"
      ],
      "metadata": {
        "id": "yx4Ki_O-URBp"
      }
    },
    {
      "cell_type": "code",
      "source": [
        "from nltk.stem.wordnet import WordNetLemmatizer\n",
        "nltk.download('wordnet')"
      ],
      "metadata": {
        "id": "lSwe0hmncJ91",
        "colab": {
          "base_uri": "https://localhost:8080/"
        },
        "outputId": "674c7d55-b708-4f19-8b8b-f031ee83f6d7"
      },
      "execution_count": 18,
      "outputs": [
        {
          "output_type": "stream",
          "name": "stdout",
          "text": [
            "[nltk_data] Downloading package wordnet to /root/nltk_data...\n",
            "[nltk_data]   Unzipping corpora/wordnet.zip.\n"
          ]
        },
        {
          "output_type": "execute_result",
          "data": {
            "text/plain": [
              "True"
            ]
          },
          "metadata": {},
          "execution_count": 18
        }
      ]
    },
    {
      "cell_type": "code",
      "source": [
        "def tag_generalizer(tag): #a function to combine all nouns, verbs, etc. to a single tag\n",
        "    '''\n",
        "    Take a tag and return a type.\n",
        "    return 'n' for noun, 'v' for verb, and 'a' for any\n",
        "    '''\n",
        "    if tag.startswith('NN'):\n",
        "        return 'n'\n",
        "    elif tag.startswith('VB'):\n",
        "        return 'v'\n",
        "    else:\n",
        "        return 'a'\n",
        "\n",
        "lemmatizer = WordNetLemmatizer()\n",
        "lemmatized_positive = [[lemmatizer.lemmatize(word, tag_generalizer(tag)) for (word, tag) in tags] for tags in tags_positive]\n",
        "lemmatized_negative = [[lemmatizer.lemmatize(word, tag_generalizer(tag)) for (word, tag) in tags] for tags in tags_negative]\n",
        "print(f\"Sample positive: {positive_tweets.head(1)['text']}\")\n",
        "print(f\"Lemmatized sample: {lemmatized_positive[10]}\")\n",
        "print(f\"Tags: {tags_positive[10]}\")"
      ],
      "metadata": {
        "id": "Q3eUnhWYcOJL",
        "colab": {
          "base_uri": "https://localhost:8080/"
        },
        "outputId": "bb9c75bd-7e9d-4b1a-ed6b-f8fae6b067f9"
      },
      "execution_count": 19,
      "outputs": [
        {
          "output_type": "stream",
          "name": "stdout",
          "text": [
            "Sample positive: 449016    @kristenstewart9 that must be pretty cool \n",
            "Name: text, dtype: object\n",
            "Lemmatized sample: ['work', 'work', 'work', 'work', '.', 'finally', 'off', 'tomorrow', '.', 'need', 'to', 'do', 'to', 'much', 'stuff', '.']\n",
            "Tags: [('working', 'VBG'), ('working', 'VBG'), ('working', 'VBG'), ('working', 'VBG'), ('.', '.'), ('finally', 'RB'), ('off', 'IN'), ('tomorrow', 'NN'), ('.', '.'), ('need', 'NN'), ('to', 'TO'), ('do', 'VB'), ('to', 'TO'), ('much', 'VB'), ('stuff', 'NN'), ('.', '.')]\n"
          ]
        }
      ]
    },
    {
      "cell_type": "markdown",
      "source": [
        "##Prune punctuation and stopwords"
      ],
      "metadata": {
        "id": "qM7vzmqMUW6e"
      }
    },
    {
      "cell_type": "code",
      "source": [
        "import re\n",
        "from string import punctuation\n",
        "from nltk.corpus import stopwords\n",
        "nltk.download('stopwords')\n",
        "stops = set(stopwords.words('english'))\n",
        "extra_stops = ([\"...\",\"..\"])\n",
        "stops.update(extra_stops)"
      ],
      "metadata": {
        "id": "eNya7nzsfFTM",
        "colab": {
          "base_uri": "https://localhost:8080/"
        },
        "outputId": "34665665-8333-451b-a88d-a38d6e5d7502"
      },
      "execution_count": 20,
      "outputs": [
        {
          "output_type": "stream",
          "name": "stdout",
          "text": [
            "[nltk_data] Downloading package stopwords to /root/nltk_data...\n",
            "[nltk_data]   Unzipping corpora/stopwords.zip.\n"
          ]
        }
      ]
    },
    {
      "cell_type": "code",
      "source": [
        "def is_noise(word):\n",
        "    pattern = 'http[s]?://(?:[a-zA-Z]|[0-9]|[$-_@.&+#]|[!*\\(\\),]|(?:%[0-9a-fA-F][0-9a-fA-F]))+|(@[A-Za-z0-9_]+)' # punctuation removal\n",
        "    return word in punctuation \\\n",
        "        or word.lower() in stops \\\n",
        "        or re.search(pattern, word, re.IGNORECASE) != None"
      ],
      "metadata": {
        "id": "cCSl5r7xfuIS"
      },
      "execution_count": 21,
      "outputs": []
    },
    {
      "cell_type": "code",
      "source": [
        "denoised_positive = [[p.lower() for p in word_list if not is_noise(p)] for word_list in lemmatized_positive]\n",
        "denoised_negative = [[p.lower() for p in word_list if not is_noise(p)] for word_list in lemmatized_negative]"
      ],
      "metadata": {
        "id": "Sqhr3xQr3ySh"
      },
      "execution_count": 22,
      "outputs": []
    },
    {
      "cell_type": "code",
      "source": [
        "print(f\"Positive tweet: {positive_tweets.head(1)['text']}\\n\")\n",
        "print(f\"Denoised: {denoised_positive[0]}\")"
      ],
      "metadata": {
        "id": "D1o79V-343sb",
        "colab": {
          "base_uri": "https://localhost:8080/"
        },
        "outputId": "4dbcc65c-ebfc-4fd8-c3d5-b8b3decbda81"
      },
      "execution_count": 23,
      "outputs": [
        {
          "output_type": "stream",
          "name": "stdout",
          "text": [
            "Positive tweet: 449016    @kristenstewart9 that must be pretty cool \n",
            "Name: text, dtype: object\n",
            "\n",
            "Denoised: ['must', 'pretty', 'cool']\n"
          ]
        }
      ]
    },
    {
      "cell_type": "markdown",
      "source": [
        "##Get final tokenized lists, add True for ML"
      ],
      "metadata": {
        "id": "8X_eMajaUekE"
      }
    },
    {
      "cell_type": "code",
      "source": [
        "def tweets_for_model(tokens_list):\n",
        "\n",
        "    for tokens in tokens_list:\n",
        "        yield dict([token, True] for token in tokens)\n",
        "\n",
        "positive_tokens_for_model = tweets_for_model(denoised_positive)\n",
        "negative_tokens_for_model = tweets_for_model(denoised_negative)"
      ],
      "metadata": {
        "id": "i_F2wwl15lnu"
      },
      "execution_count": 24,
      "outputs": []
    },
    {
      "cell_type": "markdown",
      "source": [
        "##Peep at most common words"
      ],
      "metadata": {
        "id": "XA6CZGrOUm4Y"
      }
    },
    {
      "cell_type": "code",
      "source": [
        "from nltk import FreqDist"
      ],
      "metadata": {
        "id": "lmNQLSlx6up6"
      },
      "execution_count": 25,
      "outputs": []
    },
    {
      "cell_type": "code",
      "source": [
        "def get_all_words(tokens_list):\n",
        "      for tokens in tokens_list:\n",
        "        for token in tokens:\n",
        "            yield token\n",
        "\n",
        "all_pos_words = get_all_words(denoised_positive)\n",
        "all_neg_words = get_all_words(denoised_negative)\n",
        "\n",
        "freq_dist_pos = FreqDist(all_pos_words)\n",
        "freq_dist_neg = FreqDist(all_neg_words)\n",
        "\n",
        "print(f\"The 100 most common words in a set of positive tweets: {freq_dist_pos.most_common(100)}\")\n",
        "print(f\"The 100 most common words in a set of negative tweets: {freq_dist_neg.most_common(100)}\")"
      ],
      "metadata": {
        "id": "yO_uKJdf6vrC",
        "colab": {
          "base_uri": "https://localhost:8080/"
        },
        "outputId": "51910309-510a-45f4-cd59-1b5bd31d06dc"
      },
      "execution_count": 26,
      "outputs": [
        {
          "output_type": "stream",
          "name": "stdout",
          "text": [
            "The 100 most common words in a set of positive tweets: [('get', 7706), ('good', 7404), ('go', 6802), (\"i'm\", 5545), ('love', 5521), ('day', 5424), ('like', 3986), ('lol', 3738), ('time', 3445), ('thanks', 3412), ('u', 3101), ('see', 3060), ('today', 2953), ('know', 2948), ('make', 2854), ('work', 2801), ('new', 2758), ('one', 2733), ('think', 2715), ('great', 2565), ('watch', 2524), ('back', 2441), ('night', 2364), ('well', 2320), ('look', 2231), ('come', 2213), ('haha', 2208), ('happy', 2120), ('morning', 2091), ('twitter', 2017), ('im', 2003), ('hope', 1976), ('wait', 1901), ('really', 1871), ('fun', 1862), ('say', 1835), ('oh', 1703), ('much', 1694), ('2', 1679), ('home', 1675), ('need', 1669), ('want', 1659), ('nice', 1658), ('thank', 1584), (\"i'll\", 1547), ('follow', 1463), ('still', 1450), ('tomorrow', 1440), ('take', 1423), ('hey', 1390), (\"can't\", 1389), ('awesome', 1372), ('way', 1365), ('right', 1333), ('tonight', 1325), ('would', 1323), ('yes', 1315), ('yeah', 1297), ('last', 1297), ('thing', 1295), ('friend', 1288), ('tweet', 1276), (\"that's\", 1252), ('feel', 1234), ('sleep', 1174), ('week', 1165), ('try', 1153), ('best', 1127), ('cool', 1095), ('guy', 1090), ('yay', 1062), ('people', 1057), ('late', 1053), ('movie', 1037), ('enjoy', 1033), ('start', 1030), ('show', 1024), ('gonna', 1014), ('everyone', 1007), ('song', 1001), ('weekend', 999), ('play', 986), ('bed', 972), ('use', 966), ('<3', 966), ('first', 952), ('soon', 932), ('find', 930), ('miss', 924), ('sure', 923), ('next', 919), ('girl', 908), ('ok', 888), ('please', 884), ('tell', 883), ('though', 867), ('little', 863), ('lot', 853), ('long', 853), ('always', 838)]\n",
            "The 100 most common words in a set of negative tweets: [('go', 9606), ('get', 9385), (\"i'm\", 7435), ('work', 5764), ('day', 5005), ('miss', 4713), ('like', 4270), ('want', 4001), ('good', 3809), ('today', 3703), ('feel', 3329), ('back', 3237), (\"can't\", 3175), ('time', 3158), ('really', 3147), ('think', 3118), ('im', 3058), ('still', 3012), ('one', 2904), ('know', 2847), ('sad', 2774), ('make', 2765), ('wish', 2681), ('bad', 2615), ('see', 2579), ('need', 2565), ('home', 2419), ('u', 2384), ('come', 2364), ('2', 2311), ('last', 2251), ('lol', 2220), ('oh', 2198), ('sleep', 2171), ('sorry', 2090), ('love', 1965), ('much', 1947), ('night', 1932), ('hate', 1915), ('well', 1903), ('tomorrow', 1862), ('watch', 1757), ('take', 1723), ('say', 1716), ('leave', 1715), ('look', 1690), ('try', 1687), ('week', 1599), ('new', 1583), ('hope', 1517), ('find', 1516), ('right', 1453), ('sick', 1451), ('morning', 1442), ('wait', 1419), ('twitter', 1407), ('though', 1400), ('thing', 1381), ('suck', 1378), ('school', 1335), ('hour', 1319), ('could', 1312), ('would', 1312), ('bed', 1277), ('gonna', 1273), ('dont', 1258), ('cant', 1252), ('tonight', 1245), ('hurt', 1241), ('way', 1192), ('friend', 1188), ('lose', 1184), ('even', 1179), ('long', 1159), ('wanna', 1139), ('never', 1131), ('rain', 1128), ('start', 1109), (\"i've\", 1108), ('show', 1041), (\"i'll\", 1018), ('people', 1017), ('fun', 1014), ('3', 1006), ('weekend', 987), ('next', 986), ('haha', 981), ('phone', 970), ('late', 966), ('ugh', 959), ('year', 955), ('already', 947), ('wake', 939), (\"that's\", 934), ('yeah', 930), ('damn', 927), ('play', 921), ('early', 897), ('tweet', 893), ('away', 871)]\n"
          ]
        }
      ]
    },
    {
      "cell_type": "markdown",
      "source": [
        "##Create test and train sets"
      ],
      "metadata": {
        "id": "XZtl6kk0UrBn"
      }
    },
    {
      "cell_type": "code",
      "source": [
        "from sklearn.model_selection import train_test_split\n",
        "import random"
      ],
      "metadata": {
        "id": "OUKPhFO69Aue"
      },
      "execution_count": 27,
      "outputs": []
    },
    {
      "cell_type": "code",
      "source": [
        "def add_true_for_training(tokens_list):\n",
        "  for tweet_tokens in tokens_list:\n",
        "        yield dict([token, True] for token in tweet_tokens)\n",
        "\n",
        "positive_tokens_for_model = add_true_for_training(denoised_positive)\n",
        "negative_tokens_for_model = add_true_for_training(denoised_negative)"
      ],
      "metadata": {
        "id": "mYY2qM3q-91v"
      },
      "execution_count": 28,
      "outputs": []
    },
    {
      "cell_type": "code",
      "source": [
        "TEST_SIZE = .10\n",
        "positive_dataset = [(tweet_dict, \"pos\") for tweet_dict in positive_tokens_for_model]\n",
        "negative_dataset = [(tweet_dict, \"neg\") for tweet_dict in negative_tokens_for_model]\n",
        "dataset = positive_dataset + negative_dataset\n",
        "random.shuffle(dataset)\n",
        "# print(dataset)\n",
        "train_dataset, test_dataset = train_test_split(dataset, test_size=TEST_SIZE)"
      ],
      "metadata": {
        "id": "sCE9DA8l_Pfq"
      },
      "execution_count": 29,
      "outputs": []
    },
    {
      "cell_type": "markdown",
      "source": [
        "##Train the Classifier (Naive Bayes)"
      ],
      "metadata": {
        "id": "LTg6TikPUuGP"
      }
    },
    {
      "cell_type": "code",
      "source": [
        "from nltk import classify\n",
        "from nltk import NaiveBayesClassifier"
      ],
      "metadata": {
        "id": "nI7c43a0BX0T"
      },
      "execution_count": 30,
      "outputs": []
    },
    {
      "cell_type": "code",
      "source": [
        "classifier = NaiveBayesClassifier.train(train_dataset)"
      ],
      "metadata": {
        "id": "kncaOrLOU2aE"
      },
      "execution_count": 31,
      "outputs": []
    },
    {
      "cell_type": "markdown",
      "source": [
        "## Evaluate Results"
      ],
      "metadata": {
        "id": "yhh33OwRU4LY"
      }
    },
    {
      "cell_type": "code",
      "source": [
        "\n",
        "\n",
        "print(f\"Training accuracy: {classify.accuracy(classifier, train_dataset)}\")\n",
        "print(f\"Testing accuracy: {classify.accuracy(classifier, test_dataset)}\")\n",
        "print(classifier.show_most_informative_features(50))"
      ],
      "metadata": {
        "id": "_ySsoUHfBlC1",
        "colab": {
          "base_uri": "https://localhost:8080/"
        },
        "outputId": "21feed7f-cc6a-4c31-a000-0ce73c2e58f6"
      },
      "execution_count": 32,
      "outputs": [
        {
          "output_type": "stream",
          "name": "stdout",
          "text": [
            "Training accuracy: 0.8285625\n",
            "Testing accuracy: 0.7509375\n",
            "Most Informative Features\n",
            "                     3gs = True              neg : pos    =     32.4 : 1.0\n",
            "                   boooo = True              neg : pos    =     30.4 : 1.0\n",
            "           disappointing = True              neg : pos    =     29.0 : 1.0\n",
            "               miserable = True              neg : pos    =     26.6 : 1.0\n",
            "           #followfriday = True              pos : neg    =     23.1 : 1.0\n",
            "                   wreck = True              neg : pos    =     21.7 : 1.0\n",
            "                  unable = True              neg : pos    =     20.4 : 1.0\n",
            "                 relieve = True              pos : neg    =     20.3 : 1.0\n",
            "                     sad = True              neg : pos    =     19.4 : 1.0\n",
            "              withdrawal = True              neg : pos    =     17.7 : 1.0\n",
            "               infection = True              neg : pos    =     16.5 : 1.0\n",
            "               emergency = True              neg : pos    =     16.4 : 1.0\n",
            "                   bueno = True              neg : pos    =     16.4 : 1.0\n",
            "                     fml = True              neg : pos    =     16.2 : 1.0\n",
            "                blessing = True              pos : neg    =     16.2 : 1.0\n",
            "            disappointed = True              neg : pos    =     16.1 : 1.0\n",
            "                  poorly = True              neg : pos    =     15.8 : 1.0\n",
            "              condolence = True              neg : pos    =     15.7 : 1.0\n",
            "              frustrated = True              neg : pos    =     15.7 : 1.0\n",
            "                 shatter = True              neg : pos    =     15.0 : 1.0\n",
            "                greeting = True              pos : neg    =     15.0 : 1.0\n",
            "                   strep = True              neg : pos    =     14.4 : 1.0\n",
            "               toothache = True              neg : pos    =     14.4 : 1.0\n",
            "                homesick = True              neg : pos    =     14.4 : 1.0\n",
            "                   sadly = True              neg : pos    =     13.9 : 1.0\n",
            "                  booooo = True              neg : pos    =     13.7 : 1.0\n",
            "                 mcmahon = True              neg : pos    =     13.7 : 1.0\n",
            "                 unhappy = True              neg : pos    =     13.7 : 1.0\n",
            "                 noooooo = True              neg : pos    =     13.7 : 1.0\n",
            "                 welcome = True              pos : neg    =     13.6 : 1.0\n",
            "                  nooooo = True              neg : pos    =     13.3 : 1.0\n",
            "                   tummy = True              neg : pos    =     13.2 : 1.0\n",
            "                 depress = True              neg : pos    =     13.1 : 1.0\n",
            "          disappointment = True              neg : pos    =     13.0 : 1.0\n",
            "                  ughhhh = True              neg : pos    =     13.0 : 1.0\n",
            "                     arg = True              neg : pos    =     13.0 : 1.0\n",
            "                  missin = True              neg : pos    =     12.4 : 1.0\n",
            "                headache = True              neg : pos    =     12.3 : 1.0\n",
            "          congratulation = True              pos : neg    =     12.3 : 1.0\n",
            "                 dislike = True              neg : pos    =     12.2 : 1.0\n",
            "                    grrr = True              neg : pos    =     12.1 : 1.0\n",
            "                  throat = True              neg : pos    =     11.9 : 1.0\n",
            "                   sinus = True              neg : pos    =     11.8 : 1.0\n",
            "                    ache = True              neg : pos    =     11.8 : 1.0\n",
            "                   dying = True              neg : pos    =     11.7 : 1.0\n",
            "                   #tcot = True              pos : neg    =     11.7 : 1.0\n",
            "                   heheh = True              pos : neg    =     11.7 : 1.0\n",
            "                    sick = True              neg : pos    =     11.4 : 1.0\n",
            "                   lovin = True              pos : neg    =     11.2 : 1.0\n",
            "                coughing = True              neg : pos    =     11.0 : 1.0\n",
            "None\n"
          ]
        }
      ]
    },
    {
      "cell_type": "code",
      "source": [
        ""
      ],
      "metadata": {
        "id": "8PgpqoZEGuRx"
      },
      "execution_count": 32,
      "outputs": []
    }
  ]
}