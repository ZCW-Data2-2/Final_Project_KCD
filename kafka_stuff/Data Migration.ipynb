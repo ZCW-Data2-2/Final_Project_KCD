{
 "cells": [
  {
   "cell_type": "code",
   "execution_count": 91,
   "metadata": {
    "collapsed": true
   },
   "outputs": [],
   "source": [
    "\n",
    "\n",
    "import re\n",
    "from nltk.tag import pos_tag\n",
    "from nltk.corpus import stopwords\n",
    "from nltk.stem import WordNetLemmatizer\n",
    "from nltk.tokenize import TweetTokenizer\n",
    "from string import punctuation\n",
    "import pickle\n",
    "# from sklearn.feature_extraction.text import TfidfVectorizer"
   ]
  },
  {
   "cell_type": "code",
   "execution_count": 92,
   "outputs": [
    {
     "name": "stdout",
     "output_type": "stream",
     "text": [
      "                      created_at  \\\n",
      "count                      31774   \n",
      "unique                     28094   \n",
      "top     2022-01-20T17:03:08.000Z   \n",
      "freq                           6   \n",
      "\n",
      "                                                     text  \n",
      "count                                               31774  \n",
      "unique                                               9740  \n",
      "top     RT @estrellasadie: Bumped into conspiracy neig...  \n",
      "freq                                                 1822  \n"
     ]
    }
   ],
   "source": [
    "import requests\n",
    "import pandas as pd\n",
    "\n",
    "import numpy as np\n",
    "import datetime\n",
    "from sqlalchemy import create_engine\n",
    "\n",
    "engine = create_engine(\n",
    "    'postgresql://postgres:<password here>@tweets-sentiment.cwbdzmao4m7w.us-east-1.rds.amazonaws.com/tweets_sentiment_db')\n",
    "\n",
    "df = pd.read_sql('SELECT * FROM tweets2', engine, index_col=\"id\")\n",
    "print(df.describe())"
   ],
   "metadata": {
    "collapsed": false,
    "pycharm": {
     "name": "#%%\n"
    }
   }
  },
  {
   "cell_type": "code",
   "execution_count": 93,
   "outputs": [
    {
     "data": {
      "text/plain": "                      created_at  \\\ncount                      31774   \nunique                     28094   \ntop     2022-01-20T17:03:08.000Z   \nfreq                           6   \n\n                                                     text  \ncount                                               31774  \nunique                                               9740  \ntop     RT @estrellasadie: Bumped into conspiracy neig...  \nfreq                                                 1822  ",
      "text/html": "<div>\n<style scoped>\n    .dataframe tbody tr th:only-of-type {\n        vertical-align: middle;\n    }\n\n    .dataframe tbody tr th {\n        vertical-align: top;\n    }\n\n    .dataframe thead th {\n        text-align: right;\n    }\n</style>\n<table border=\"1\" class=\"dataframe\">\n  <thead>\n    <tr style=\"text-align: right;\">\n      <th></th>\n      <th>created_at</th>\n      <th>text</th>\n    </tr>\n  </thead>\n  <tbody>\n    <tr>\n      <th>count</th>\n      <td>31774</td>\n      <td>31774</td>\n    </tr>\n    <tr>\n      <th>unique</th>\n      <td>28094</td>\n      <td>9740</td>\n    </tr>\n    <tr>\n      <th>top</th>\n      <td>2022-01-20T17:03:08.000Z</td>\n      <td>RT @estrellasadie: Bumped into conspiracy neig...</td>\n    </tr>\n    <tr>\n      <th>freq</th>\n      <td>6</td>\n      <td>1822</td>\n    </tr>\n  </tbody>\n</table>\n</div>"
     },
     "execution_count": 93,
     "metadata": {},
     "output_type": "execute_result"
    }
   ],
   "source": [
    "df.describe()"
   ],
   "metadata": {
    "collapsed": false,
    "pycharm": {
     "name": "#%%\n"
    }
   }
  },
  {
   "cell_type": "code",
   "execution_count": 94,
   "outputs": [
    {
     "data": {
      "text/plain": "created_at    object\ntext          object\ndtype: object"
     },
     "execution_count": 94,
     "metadata": {},
     "output_type": "execute_result"
    }
   ],
   "source": [
    "df.dtypes"
   ],
   "metadata": {
    "collapsed": false,
    "pycharm": {
     "name": "#%%\n"
    }
   }
  },
  {
   "cell_type": "code",
   "execution_count": 97,
   "outputs": [
    {
     "data": {
      "text/plain": "                                   created_at  \\\nid                                              \n1484408830444597250  2022-01-21T06:13:38.000Z   \n1484408727423922177  2022-01-21T06:13:14.000Z   \n1484408723737038848  2022-01-21T06:13:13.000Z   \n1484408717286150145  2022-01-21T06:13:11.000Z   \n1484408650135314432  2022-01-21T06:12:55.000Z   \n\n                                                                  text  \nid                                                                      \n1484408830444597250  RT @estrellasadie: Bumped into conspiracy neig...  \n1484408727423922177  RT @vademocrats: .@GovernorVA is putting polit...  \n1484408723737038848  RT @estrellasadie: Bumped into conspiracy neig...  \n1484408717286150145  @JoyceLauNews Thank goodness the school distri...  \n1484408650135314432  RT @RepBalderson: Speaker Pelosi’s Capitol Hil...  ",
      "text/html": "<div>\n<style scoped>\n    .dataframe tbody tr th:only-of-type {\n        vertical-align: middle;\n    }\n\n    .dataframe tbody tr th {\n        vertical-align: top;\n    }\n\n    .dataframe thead th {\n        text-align: right;\n    }\n</style>\n<table border=\"1\" class=\"dataframe\">\n  <thead>\n    <tr style=\"text-align: right;\">\n      <th></th>\n      <th>created_at</th>\n      <th>text</th>\n    </tr>\n    <tr>\n      <th>id</th>\n      <th></th>\n      <th></th>\n    </tr>\n  </thead>\n  <tbody>\n    <tr>\n      <th>1484408830444597250</th>\n      <td>2022-01-21T06:13:38.000Z</td>\n      <td>RT @estrellasadie: Bumped into conspiracy neig...</td>\n    </tr>\n    <tr>\n      <th>1484408727423922177</th>\n      <td>2022-01-21T06:13:14.000Z</td>\n      <td>RT @vademocrats: .@GovernorVA is putting polit...</td>\n    </tr>\n    <tr>\n      <th>1484408723737038848</th>\n      <td>2022-01-21T06:13:13.000Z</td>\n      <td>RT @estrellasadie: Bumped into conspiracy neig...</td>\n    </tr>\n    <tr>\n      <th>1484408717286150145</th>\n      <td>2022-01-21T06:13:11.000Z</td>\n      <td>@JoyceLauNews Thank goodness the school distri...</td>\n    </tr>\n    <tr>\n      <th>1484408650135314432</th>\n      <td>2022-01-21T06:12:55.000Z</td>\n      <td>RT @RepBalderson: Speaker Pelosi’s Capitol Hil...</td>\n    </tr>\n  </tbody>\n</table>\n</div>"
     },
     "execution_count": 97,
     "metadata": {},
     "output_type": "execute_result"
    }
   ],
   "source": [
    "df.head()"
   ],
   "metadata": {
    "collapsed": false,
    "pycharm": {
     "name": "#%%\n"
    }
   }
  },
  {
   "cell_type": "code",
   "execution_count": 98,
   "outputs": [
    {
     "name": "stdout",
     "output_type": "stream",
     "text": [
      "['good']\n"
     ]
    }
   ],
   "source": [
    "def tag2type(tag):\n",
    "\n",
    "    if tag.startswith('NN'):\n",
    "        return 'n'\n",
    "    elif tag.startswith('VB'):\n",
    "        return 'v'\n",
    "    else:\n",
    "        return 'a'\n",
    "\n",
    "stopwords1=stopwords.words('english')\n",
    "punctuations_list = punctuation\n",
    "\n",
    "def cleaning_URLs(data):\n",
    "        return re.sub('(www.[^\\s]+)|(http?://[^\\s]+)|(https?://[^\\s]+)','',data)\n",
    "def clean_text(data):\n",
    "    data = data.lower()\n",
    "\n",
    "    data = cleaning_URLs(data)\n",
    "\n",
    "    data =\" \".join([word for word in str(data).split() if word not in stopwords1])\n",
    "\n",
    "    translator = str.maketrans('', '', punctuations_list)\n",
    "    data = data.translate(translator)\n",
    "    data = re.sub('[0-9]+','',data)\n",
    "    tweet_tokenizer = TweetTokenizer(\n",
    "    preserve_case = True,\n",
    "    reduce_len    = False,\n",
    "    strip_handles = False)\n",
    "\n",
    "    tweet=data\n",
    "\n",
    "    tokens = tweet_tokenizer.tokenize(tweet)\n",
    "\n",
    "    data = tokens\n",
    "\n",
    "\n",
    "    tags = pos_tag(data)\n",
    "    lemmatizer = WordNetLemmatizer()\n",
    "\n",
    "\n",
    "\n",
    "    data = [lemmatizer.lemmatize(t[0], tag2type(t[1])) for t in tags]\n",
    "\n",
    "    data = ' '.join(data)\n",
    "\n",
    "    data = [data]\n",
    "\n",
    "    return data\n",
    "print(clean_text('http://www.sadsaas.com good'))"
   ],
   "metadata": {
    "collapsed": false,
    "pycharm": {
     "name": "#%%\n"
    }
   }
  },
  {
   "cell_type": "code",
   "execution_count": 99,
   "outputs": [],
   "source": [
    "file = open('LRmodel.pickle', 'rb')\n",
    "info = pickle.load(file)\n",
    "file.close()\n",
    "\n",
    "file2 = open('vectorizer.pickle', 'rb')\n",
    "info2 = pickle.load(file2)\n",
    "file2.close()"
   ],
   "metadata": {
    "collapsed": false,
    "pycharm": {
     "name": "#%%\n"
    }
   }
  },
  {
   "cell_type": "code",
   "execution_count": 100,
   "outputs": [],
   "source": [
    "\n",
    "data = info2.transform(clean_text('http://www.sadsaas.com bad'))\n",
    "\n"
   ],
   "metadata": {
    "collapsed": false,
    "pycharm": {
     "name": "#%%\n"
    }
   }
  },
  {
   "cell_type": "code",
   "execution_count": 101,
   "outputs": [
    {
     "data": {
      "text/plain": "array([0])"
     },
     "execution_count": 101,
     "metadata": {},
     "output_type": "execute_result"
    }
   ],
   "source": [
    "info.predict(data)"
   ],
   "metadata": {
    "collapsed": false,
    "pycharm": {
     "name": "#%%\n"
    }
   }
  },
  {
   "cell_type": "code",
   "execution_count": 102,
   "outputs": [
    {
     "data": {
      "text/plain": "(31774, 2)"
     },
     "execution_count": 102,
     "metadata": {},
     "output_type": "execute_result"
    }
   ],
   "source": [
    "df.shape"
   ],
   "metadata": {
    "collapsed": false,
    "pycharm": {
     "name": "#%%\n"
    }
   }
  },
  {
   "cell_type": "code",
   "execution_count": 103,
   "outputs": [
    {
     "data": {
      "text/plain": "datetime.datetime(2022, 1, 21, 1, 34, 20, 99095)"
     },
     "execution_count": 103,
     "metadata": {},
     "output_type": "execute_result"
    }
   ],
   "source": [
    "import datetime\n",
    "datetime.datetime.now()"
   ],
   "metadata": {
    "collapsed": false,
    "pycharm": {
     "name": "#%%\n"
    }
   }
  },
  {
   "cell_type": "code",
   "execution_count": 104,
   "outputs": [
    {
     "data": {
      "text/plain": "                                   created_at  \\\nid                                              \n1484408830444597250  2022-01-21T06:13:38.000Z   \n1484408727423922177  2022-01-21T06:13:14.000Z   \n1484408723737038848  2022-01-21T06:13:13.000Z   \n1484408717286150145  2022-01-21T06:13:11.000Z   \n1484408650135314432  2022-01-21T06:12:55.000Z   \n\n                                                                  text  \\\nid                                                                       \n1484408830444597250  RT @estrellasadie: Bumped into conspiracy neig...   \n1484408727423922177  RT @vademocrats: .@GovernorVA is putting polit...   \n1484408723737038848  RT @estrellasadie: Bumped into conspiracy neig...   \n1484408717286150145  @JoyceLauNews Thank goodness the school distri...   \n1484408650135314432  RT @RepBalderson: Speaker Pelosi’s Capitol Hil...   \n\n                    sentiment  \nid                             \n1484408830444597250       [0]  \n1484408727423922177       [1]  \n1484408723737038848       [0]  \n1484408717286150145       [1]  \n1484408650135314432       [1]  ",
      "text/html": "<div>\n<style scoped>\n    .dataframe tbody tr th:only-of-type {\n        vertical-align: middle;\n    }\n\n    .dataframe tbody tr th {\n        vertical-align: top;\n    }\n\n    .dataframe thead th {\n        text-align: right;\n    }\n</style>\n<table border=\"1\" class=\"dataframe\">\n  <thead>\n    <tr style=\"text-align: right;\">\n      <th></th>\n      <th>created_at</th>\n      <th>text</th>\n      <th>sentiment</th>\n    </tr>\n    <tr>\n      <th>id</th>\n      <th></th>\n      <th></th>\n      <th></th>\n    </tr>\n  </thead>\n  <tbody>\n    <tr>\n      <th>1484408830444597250</th>\n      <td>2022-01-21T06:13:38.000Z</td>\n      <td>RT @estrellasadie: Bumped into conspiracy neig...</td>\n      <td>[0]</td>\n    </tr>\n    <tr>\n      <th>1484408727423922177</th>\n      <td>2022-01-21T06:13:14.000Z</td>\n      <td>RT @vademocrats: .@GovernorVA is putting polit...</td>\n      <td>[1]</td>\n    </tr>\n    <tr>\n      <th>1484408723737038848</th>\n      <td>2022-01-21T06:13:13.000Z</td>\n      <td>RT @estrellasadie: Bumped into conspiracy neig...</td>\n      <td>[0]</td>\n    </tr>\n    <tr>\n      <th>1484408717286150145</th>\n      <td>2022-01-21T06:13:11.000Z</td>\n      <td>@JoyceLauNews Thank goodness the school distri...</td>\n      <td>[1]</td>\n    </tr>\n    <tr>\n      <th>1484408650135314432</th>\n      <td>2022-01-21T06:12:55.000Z</td>\n      <td>RT @RepBalderson: Speaker Pelosi’s Capitol Hil...</td>\n      <td>[1]</td>\n    </tr>\n  </tbody>\n</table>\n</div>"
     },
     "execution_count": 104,
     "metadata": {},
     "output_type": "execute_result"
    }
   ],
   "source": [
    "df['sentiment']=df['text'].apply(lambda x: info.predict(info2.transform(clean_text(x))))\n",
    "df.head()"
   ],
   "metadata": {
    "collapsed": false,
    "pycharm": {
     "name": "#%%\n"
    }
   }
  },
  {
   "cell_type": "code",
   "execution_count": null,
   "outputs": [],
   "source": [
    "df.reset_index(inplace=True)\n",
    "df['sentiment']=df['sentiment'].apply(lambda x: x[0])"
   ],
   "metadata": {
    "collapsed": false,
    "pycharm": {
     "name": "#%%\n"
    }
   }
  },
  {
   "cell_type": "code",
   "execution_count": 2,
   "outputs": [
    {
     "name": "stdout",
     "output_type": "stream",
     "text": [
      "123\n"
     ]
    }
   ],
   "source": [
    "import numpy as np\n",
    "q = np.int64(123)\n",
    "print(q)"
   ],
   "metadata": {
    "collapsed": false,
    "pycharm": {
     "name": "#%%\n"
    }
   }
  },
  {
   "cell_type": "code",
   "execution_count": 5,
   "outputs": [],
   "source": [
    "q = int(q)"
   ],
   "metadata": {
    "collapsed": false,
    "pycharm": {
     "name": "#%%\n"
    }
   }
  },
  {
   "cell_type": "code",
   "execution_count": 7,
   "outputs": [
    {
     "data": {
      "text/plain": "123"
     },
     "execution_count": 7,
     "metadata": {},
     "output_type": "execute_result"
    }
   ],
   "source": [
    "q"
   ],
   "metadata": {
    "collapsed": false,
    "pycharm": {
     "name": "#%%\n"
    }
   }
  },
  {
   "cell_type": "code",
   "execution_count": 6,
   "outputs": [
    {
     "data": {
      "text/plain": "int"
     },
     "execution_count": 6,
     "metadata": {},
     "output_type": "execute_result"
    }
   ],
   "source": [
    "type(q)"
   ],
   "metadata": {
    "collapsed": false,
    "pycharm": {
     "name": "#%%\n"
    }
   }
  },
  {
   "cell_type": "code",
   "execution_count": 117,
   "outputs": [
    {
     "data": {
      "text/plain": "datetime.datetime(2022, 1, 21, 1, 40, 50, 526279)"
     },
     "execution_count": 117,
     "metadata": {},
     "output_type": "execute_result"
    }
   ],
   "source": [
    "datetime.datetime.now()"
   ],
   "metadata": {
    "collapsed": false,
    "pycharm": {
     "name": "#%%\n"
    }
   }
  },
  {
   "cell_type": "code",
   "execution_count": 118,
   "outputs": [],
   "source": [
    "\n",
    "df.to_sql('tweets', engine, index=False, if_exists=\"append\")"
   ],
   "metadata": {
    "collapsed": false,
    "pycharm": {
     "name": "#%%\n"
    }
   }
  },
  {
   "cell_type": "code",
   "execution_count": 119,
   "outputs": [
    {
     "data": {
      "text/plain": "datetime.datetime(2022, 1, 21, 1, 41, 2, 79362)"
     },
     "execution_count": 119,
     "metadata": {},
     "output_type": "execute_result"
    }
   ],
   "source": [
    "datetime.datetime.now()"
   ],
   "metadata": {
    "collapsed": false,
    "pycharm": {
     "name": "#%%\n"
    }
   }
  },
  {
   "cell_type": "code",
   "execution_count": null,
   "outputs": [],
   "source": [],
   "metadata": {
    "collapsed": false,
    "pycharm": {
     "name": "#%%\n"
    }
   }
  }
 ],
 "metadata": {
  "kernelspec": {
   "display_name": "Python 3",
   "language": "python",
   "name": "python3"
  },
  "language_info": {
   "codemirror_mode": {
    "name": "ipython",
    "version": 2
   },
   "file_extension": ".py",
   "mimetype": "text/x-python",
   "name": "python",
   "nbconvert_exporter": "python",
   "pygments_lexer": "ipython2",
   "version": "2.7.6"
  }
 },
 "nbformat": 4,
 "nbformat_minor": 0
}